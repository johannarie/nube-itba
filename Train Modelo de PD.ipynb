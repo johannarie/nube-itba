{
 "cells": [
  {
   "cell_type": "code",
   "execution_count": 79,
   "id": "429956ad",
   "metadata": {},
   "outputs": [],
   "source": [
    "import pandas as pd\n",
    "import numpy as np\n",
    "import seaborn as sns\n",
    "import matplotlib.pyplot as plt\n",
    "from sklearn.model_selection import train_test_split, RepeatedStratifiedKFold, cross_val_score\n",
    "from sklearn.linear_model import LogisticRegression\n",
    "from sklearn.metrics import roc_curve, roc_auc_score, confusion_matrix, precision_recall_curve, auc\n",
    "from sklearn.feature_selection import f_classif\n",
    "from sklearn.pipeline import Pipeline\n",
    "from sklearn.base import BaseEstimator, TransformerMixin\n",
    "from scipy.stats import chi2_contingency\n",
    "import pickle\n",
    "import os\n",
    "import statsmodels.api as sm\n",
    "\n",
    "# Main modules\n",
    "import PredictionVF as pr\n",
    "import aws_utils as au"
   ]
  },
  {
   "cell_type": "code",
   "execution_count": 37,
   "id": "5f6f918e",
   "metadata": {},
   "outputs": [],
   "source": [
    "REGION = 'us-east-1'\n",
    "BUCKET_NAME = 'modelo-pd-2' # Unique through all accounts\n",
    "FOLDER = 'modelos' # Should be clean before the execution"
   ]
  },
  {
   "cell_type": "code",
   "execution_count": 38,
   "id": "d6d991da",
   "metadata": {},
   "outputs": [
    {
     "data": {
      "text/html": [
       "<div>\n",
       "<style scoped>\n",
       "    .dataframe tbody tr th:only-of-type {\n",
       "        vertical-align: middle;\n",
       "    }\n",
       "\n",
       "    .dataframe tbody tr th {\n",
       "        vertical-align: top;\n",
       "    }\n",
       "\n",
       "    .dataframe thead th {\n",
       "        text-align: right;\n",
       "    }\n",
       "</style>\n",
       "<table border=\"1\" class=\"dataframe\">\n",
       "  <thead>\n",
       "    <tr style=\"text-align: right;\">\n",
       "      <th></th>\n",
       "      <th>BAD</th>\n",
       "      <th>LOAN</th>\n",
       "      <th>MORTDUE</th>\n",
       "      <th>VALUE</th>\n",
       "      <th>REASON</th>\n",
       "      <th>JOB</th>\n",
       "      <th>YOJ</th>\n",
       "      <th>DEROG</th>\n",
       "      <th>DELINQ</th>\n",
       "      <th>CLAGE</th>\n",
       "      <th>NINQ</th>\n",
       "      <th>CLNO</th>\n",
       "      <th>DEBTINC</th>\n",
       "    </tr>\n",
       "  </thead>\n",
       "  <tbody>\n",
       "    <tr>\n",
       "      <th>0</th>\n",
       "      <td>1</td>\n",
       "      <td>1100</td>\n",
       "      <td>25860.0</td>\n",
       "      <td>39025.0</td>\n",
       "      <td>HomeImp</td>\n",
       "      <td>Other</td>\n",
       "      <td>10.5</td>\n",
       "      <td>0.0</td>\n",
       "      <td>0.0</td>\n",
       "      <td>94.366667</td>\n",
       "      <td>1.0</td>\n",
       "      <td>9.0</td>\n",
       "      <td>NaN</td>\n",
       "    </tr>\n",
       "    <tr>\n",
       "      <th>1</th>\n",
       "      <td>1</td>\n",
       "      <td>1300</td>\n",
       "      <td>70053.0</td>\n",
       "      <td>68400.0</td>\n",
       "      <td>HomeImp</td>\n",
       "      <td>Other</td>\n",
       "      <td>7.0</td>\n",
       "      <td>0.0</td>\n",
       "      <td>2.0</td>\n",
       "      <td>121.833333</td>\n",
       "      <td>0.0</td>\n",
       "      <td>14.0</td>\n",
       "      <td>NaN</td>\n",
       "    </tr>\n",
       "    <tr>\n",
       "      <th>2</th>\n",
       "      <td>1</td>\n",
       "      <td>1500</td>\n",
       "      <td>13500.0</td>\n",
       "      <td>16700.0</td>\n",
       "      <td>HomeImp</td>\n",
       "      <td>Other</td>\n",
       "      <td>4.0</td>\n",
       "      <td>0.0</td>\n",
       "      <td>0.0</td>\n",
       "      <td>149.466667</td>\n",
       "      <td>1.0</td>\n",
       "      <td>10.0</td>\n",
       "      <td>NaN</td>\n",
       "    </tr>\n",
       "    <tr>\n",
       "      <th>3</th>\n",
       "      <td>1</td>\n",
       "      <td>1500</td>\n",
       "      <td>NaN</td>\n",
       "      <td>NaN</td>\n",
       "      <td>NaN</td>\n",
       "      <td>NaN</td>\n",
       "      <td>NaN</td>\n",
       "      <td>NaN</td>\n",
       "      <td>NaN</td>\n",
       "      <td>NaN</td>\n",
       "      <td>NaN</td>\n",
       "      <td>NaN</td>\n",
       "      <td>NaN</td>\n",
       "    </tr>\n",
       "    <tr>\n",
       "      <th>4</th>\n",
       "      <td>0</td>\n",
       "      <td>1700</td>\n",
       "      <td>97800.0</td>\n",
       "      <td>112000.0</td>\n",
       "      <td>HomeImp</td>\n",
       "      <td>Office</td>\n",
       "      <td>3.0</td>\n",
       "      <td>0.0</td>\n",
       "      <td>0.0</td>\n",
       "      <td>93.333333</td>\n",
       "      <td>0.0</td>\n",
       "      <td>14.0</td>\n",
       "      <td>NaN</td>\n",
       "    </tr>\n",
       "  </tbody>\n",
       "</table>\n",
       "</div>"
      ],
      "text/plain": [
       "   BAD  LOAN  MORTDUE     VALUE   REASON     JOB   YOJ  DEROG  DELINQ  \\\n",
       "0    1  1100  25860.0   39025.0  HomeImp   Other  10.5    0.0     0.0   \n",
       "1    1  1300  70053.0   68400.0  HomeImp   Other   7.0    0.0     2.0   \n",
       "2    1  1500  13500.0   16700.0  HomeImp   Other   4.0    0.0     0.0   \n",
       "3    1  1500      NaN       NaN      NaN     NaN   NaN    NaN     NaN   \n",
       "4    0  1700  97800.0  112000.0  HomeImp  Office   3.0    0.0     0.0   \n",
       "\n",
       "        CLAGE  NINQ  CLNO  DEBTINC  \n",
       "0   94.366667   1.0   9.0      NaN  \n",
       "1  121.833333   0.0  14.0      NaN  \n",
       "2  149.466667   1.0  10.0      NaN  \n",
       "3         NaN   NaN   NaN      NaN  \n",
       "4   93.333333   0.0  14.0      NaN  "
      ]
     },
     "execution_count": 38,
     "metadata": {},
     "output_type": "execute_result"
    }
   ],
   "source": [
    "loan_data = pd.read_csv('hmeq.csv',sep=\",\")\n",
    "loan_data.head()"
   ]
  },
  {
   "cell_type": "code",
   "execution_count": 39,
   "id": "0ffbad9e",
   "metadata": {},
   "outputs": [
    {
     "data": {
      "text/plain": [
       "Series([], dtype: float64)"
      ]
     },
     "execution_count": 39,
     "metadata": {},
     "output_type": "execute_result"
    }
   ],
   "source": [
    "na_values = loan_data.isnull().mean()\n",
    "na_values[na_values>0.7]"
   ]
  },
  {
   "cell_type": "code",
   "execution_count": 40,
   "id": "125636f3",
   "metadata": {},
   "outputs": [],
   "source": [
    "# split data into 80/20 while keeping the distribution of bad loans in test set same as that in the pre-split dataset\n",
    "X = loan_data.drop('BAD', axis = 1)\n",
    "y = loan_data['BAD']\n",
    "X_train, X_test, y_train, y_test = train_test_split(X, y, test_size = 0.2, random_state = 42, stratify = y)\n",
    "\n",
    "# specifically hard copying the training sets to avoid Pandas' SetttingWithCopyWarning when we play around with this data later on.\n",
    "# as noted [here](https://github.com/scikit-learn/scikit-learn/issues/8723), this is currently an open issue between Pandas and Scikit-Learn teams\n",
    "X_train, X_test = X_train.copy(), X_test.copy()"
   ]
  },
  {
   "cell_type": "code",
   "execution_count": 41,
   "id": "612ff4d7",
   "metadata": {},
   "outputs": [],
   "source": [
    "# first divide training data into categorical and numerical subsets\n",
    "X_train_cat = X_train.select_dtypes(include = 'object').copy()\n",
    "X_train_num = X_train.select_dtypes(include = 'number').copy()"
   ]
  },
  {
   "cell_type": "code",
   "execution_count": 42,
   "id": "06e19b5d",
   "metadata": {},
   "outputs": [
    {
     "data": {
      "text/html": [
       "<div>\n",
       "<style scoped>\n",
       "    .dataframe tbody tr th:only-of-type {\n",
       "        vertical-align: middle;\n",
       "    }\n",
       "\n",
       "    .dataframe tbody tr th {\n",
       "        vertical-align: top;\n",
       "    }\n",
       "\n",
       "    .dataframe thead th {\n",
       "        text-align: right;\n",
       "    }\n",
       "</style>\n",
       "<table border=\"1\" class=\"dataframe\">\n",
       "  <thead>\n",
       "    <tr style=\"text-align: right;\">\n",
       "      <th></th>\n",
       "      <th>Feature</th>\n",
       "      <th>p-value</th>\n",
       "    </tr>\n",
       "  </thead>\n",
       "  <tbody>\n",
       "    <tr>\n",
       "      <th>0</th>\n",
       "      <td>JOB</td>\n",
       "      <td>0.000000</td>\n",
       "    </tr>\n",
       "    <tr>\n",
       "      <th>1</th>\n",
       "      <td>REASON</td>\n",
       "      <td>0.010842</td>\n",
       "    </tr>\n",
       "  </tbody>\n",
       "</table>\n",
       "</div>"
      ],
      "text/plain": [
       "  Feature   p-value\n",
       "0     JOB  0.000000\n",
       "1  REASON  0.010842"
      ]
     },
     "execution_count": 42,
     "metadata": {},
     "output_type": "execute_result"
    }
   ],
   "source": [
    "# define an empty dictionary to store chi-squared test results\n",
    "chi2_check = {}\n",
    "\n",
    "# loop over each column in the training set to calculate chi-statistic with the target variable\n",
    "for column in X_train_cat:\n",
    "    chi, p, dof, ex = chi2_contingency(pd.crosstab(y_train, X_train_cat[column]))\n",
    "    chi2_check.setdefault('Feature',[]).append(column)\n",
    "    chi2_check.setdefault('p-value',[]).append(round(p, 10))\n",
    "\n",
    "# convert the dictionary to a DF\n",
    "chi2_result = pd.DataFrame(data = chi2_check)\n",
    "chi2_result.sort_values(by = ['p-value'], ascending = True, ignore_index = True, inplace = True)\n",
    "chi2_result"
   ]
  },
  {
   "cell_type": "code",
   "execution_count": 43,
   "id": "c9dc05af",
   "metadata": {},
   "outputs": [
    {
     "data": {
      "text/html": [
       "<div>\n",
       "<style scoped>\n",
       "    .dataframe tbody tr th:only-of-type {\n",
       "        vertical-align: middle;\n",
       "    }\n",
       "\n",
       "    .dataframe tbody tr th {\n",
       "        vertical-align: top;\n",
       "    }\n",
       "\n",
       "    .dataframe thead th {\n",
       "        text-align: right;\n",
       "    }\n",
       "</style>\n",
       "<table border=\"1\" class=\"dataframe\">\n",
       "  <thead>\n",
       "    <tr style=\"text-align: right;\">\n",
       "      <th></th>\n",
       "      <th>Numerical_Feature</th>\n",
       "      <th>F-Score</th>\n",
       "      <th>p values</th>\n",
       "    </tr>\n",
       "  </thead>\n",
       "  <tbody>\n",
       "    <tr>\n",
       "      <th>0</th>\n",
       "      <td>DELINQ</td>\n",
       "      <td>631.404164</td>\n",
       "      <td>0.000000e+00</td>\n",
       "    </tr>\n",
       "    <tr>\n",
       "      <th>1</th>\n",
       "      <td>DEROG</td>\n",
       "      <td>359.231052</td>\n",
       "      <td>0.000000e+00</td>\n",
       "    </tr>\n",
       "    <tr>\n",
       "      <th>2</th>\n",
       "      <td>CLAGE</td>\n",
       "      <td>141.886503</td>\n",
       "      <td>0.000000e+00</td>\n",
       "    </tr>\n",
       "    <tr>\n",
       "      <th>3</th>\n",
       "      <td>NINQ</td>\n",
       "      <td>126.826527</td>\n",
       "      <td>0.000000e+00</td>\n",
       "    </tr>\n",
       "    <tr>\n",
       "      <th>4</th>\n",
       "      <td>DEBTINC</td>\n",
       "      <td>65.672341</td>\n",
       "      <td>0.000000e+00</td>\n",
       "    </tr>\n",
       "    <tr>\n",
       "      <th>5</th>\n",
       "      <td>LOAN</td>\n",
       "      <td>35.883642</td>\n",
       "      <td>2.200000e-09</td>\n",
       "    </tr>\n",
       "    <tr>\n",
       "      <th>6</th>\n",
       "      <td>MORTDUE</td>\n",
       "      <td>21.755292</td>\n",
       "      <td>3.182100e-06</td>\n",
       "    </tr>\n",
       "    <tr>\n",
       "      <th>7</th>\n",
       "      <td>YOJ</td>\n",
       "      <td>11.947109</td>\n",
       "      <td>5.521026e-04</td>\n",
       "    </tr>\n",
       "    <tr>\n",
       "      <th>8</th>\n",
       "      <td>VALUE</td>\n",
       "      <td>11.288122</td>\n",
       "      <td>7.861741e-04</td>\n",
       "    </tr>\n",
       "    <tr>\n",
       "      <th>9</th>\n",
       "      <td>CLNO</td>\n",
       "      <td>0.028752</td>\n",
       "      <td>8.653596e-01</td>\n",
       "    </tr>\n",
       "  </tbody>\n",
       "</table>\n",
       "</div>"
      ],
      "text/plain": [
       "  Numerical_Feature     F-Score      p values\n",
       "0            DELINQ  631.404164  0.000000e+00\n",
       "1             DEROG  359.231052  0.000000e+00\n",
       "2             CLAGE  141.886503  0.000000e+00\n",
       "3              NINQ  126.826527  0.000000e+00\n",
       "4           DEBTINC   65.672341  0.000000e+00\n",
       "5              LOAN   35.883642  2.200000e-09\n",
       "6           MORTDUE   21.755292  3.182100e-06\n",
       "7               YOJ   11.947109  5.521026e-04\n",
       "8             VALUE   11.288122  7.861741e-04\n",
       "9              CLNO    0.028752  8.653596e-01"
      ]
     },
     "execution_count": 43,
     "metadata": {},
     "output_type": "execute_result"
    }
   ],
   "source": [
    "# since f_class_if does not accept missing values, we will do a very crude imputation of missing values\n",
    "X_train_num.fillna(X_train_num.mean(), inplace = True)\n",
    "# Calculate F Statistic and corresponding p values\n",
    "F_statistic, p_values = f_classif(X_train_num, y_train)\n",
    "# convert to a DF\n",
    "ANOVA_F_table = pd.DataFrame(data = {'Numerical_Feature': X_train_num.columns.values, 'F-Score': F_statistic, 'p values': p_values.round(decimals=10)})\n",
    "ANOVA_F_table.sort_values(by = ['F-Score'], ascending = False, ignore_index = True, inplace = True)\n",
    "ANOVA_F_table"
   ]
  },
  {
   "cell_type": "code",
   "execution_count": 44,
   "id": "be044502",
   "metadata": {},
   "outputs": [
    {
     "data": {
      "text/plain": [
       "Text(0.5, 1.0, 'Pearson correlation')"
      ]
     },
     "execution_count": 44,
     "metadata": {},
     "output_type": "execute_result"
    },
    {
     "data": {
      "image/png": "[encoded data removed]",
      "text/plain": [
       "<Figure size 2000x2000 with 2 Axes>"
      ]
     },
     "metadata": {},
     "output_type": "display_data"
    }
   ],
   "source": [
    "# save the top 20 numerical features in a list\n",
    "top_num_features = ANOVA_F_table.iloc[:33,0].to_list()\n",
    "# calculate pair-wise correlations between them\n",
    "corrmat = X_train_num[top_num_features].corr()\n",
    "mask = np.triu(np.ones_like(corrmat, dtype=np.bool_))\n",
    "f, ax = plt.subplots(figsize=(20,20))\n",
    "cmap = sns.diverging_palette(220, 10, as_cmap=True)\n",
    "\n",
    "sns.heatmap(corrmat, cmap= cmap, mask= mask, vmax=1, center=0.5,\n",
    "            square=True, linewidths=.5, cbar_kws={\"shrink\": .6},annot=True)\n",
    "\n",
    "plt.title(\"Pearson correlation\", fontsize =10)"
   ]
  },
  {
   "cell_type": "code",
   "execution_count": 45,
   "id": "24fb28ad",
   "metadata": {},
   "outputs": [],
   "source": [
    "# function to create dummy variables\n",
    "def dummy_creation(df, columns_list):\n",
    "    df_dummies = []\n",
    "    for col in columns_list:\n",
    "        df_dummies.append(pd.get_dummies(df[col], prefix = col, prefix_sep = ':'))\n",
    "    df_dummies = pd.concat(df_dummies, axis = 1)\n",
    "    df = pd.concat([df, df_dummies], axis = 1)\n",
    "    return df"
   ]
  },
  {
   "cell_type": "code",
   "execution_count": 46,
   "id": "845a42cd",
   "metadata": {},
   "outputs": [],
   "source": [
    "# apply to our final four categorical variables\n",
    "X_train = dummy_creation(X_train, ['REASON', 'JOB'])#'verification_status',"
   ]
  },
  {
   "cell_type": "code",
   "execution_count": 47,
   "id": "771ac0df",
   "metadata": {},
   "outputs": [],
   "source": [
    "X_test = dummy_creation(X_test, ['REASON', 'JOB'])"
   ]
  },
  {
   "cell_type": "code",
   "execution_count": 48,
   "id": "81d8700a",
   "metadata": {},
   "outputs": [],
   "source": [
    "def fill_null_with_zeros(dataframe, columns_to_fill):\n",
    "    \"\"\"\n",
    "    Completa los valores nulos con ceros en las columnas especificadas de un DataFrame.\n",
    "\n",
    "    Parámetros:\n",
    "    dataframe (pd.DataFrame): El DataFrame que se va a modificar.\n",
    "    columns_to_fill (list): Una lista de nombres de columnas en las que se deben llenar los valores nulos con ceros.\n",
    "\n",
    "    Retorna:\n",
    "    pd.DataFrame: El DataFrame modificado.\n",
    "    \"\"\"\n",
    "    for column in columns_to_fill:\n",
    "        dataframe[column].fillna(0, inplace=True)\n",
    "    return dataframe"
   ]
  },
  {
   "cell_type": "code",
   "execution_count": 49,
   "id": "561bb7f6",
   "metadata": {},
   "outputs": [],
   "source": [
    "columns_to_fill_with_zeros = ['DEROG', 'DEBTINC','DELINQ','NINQ','CLNO','MORTDUE','YOJ','CLAGE']"
   ]
  },
  {
   "cell_type": "code",
   "execution_count": 50,
   "id": "0ac91e5f",
   "metadata": {},
   "outputs": [],
   "source": [
    "X_train=fill_null_with_zeros(X_train, columns_to_fill_with_zeros)"
   ]
  },
  {
   "cell_type": "code",
   "execution_count": 51,
   "id": "4d0cc20b",
   "metadata": {},
   "outputs": [],
   "source": [
    "X_test=fill_null_with_zeros(X_test, columns_to_fill_with_zeros)"
   ]
  },
  {
   "cell_type": "code",
   "execution_count": 52,
   "id": "3fe53b99",
   "metadata": {},
   "outputs": [],
   "source": [
    "def fill_null_with_mean(dataframe, columns_to_fill):\n",
    "    \"\"\"\n",
    "    Completa los valores nulos en las columnas especificadas con la media de esa columna.\n",
    "\n",
    "    Parámetros:\n",
    "    dataframe (pd.DataFrame): El DataFrame que se va a modificar.\n",
    "    columns_to_fill (list): Una lista de nombres de columnas en las que se deben llenar los valores nulos con la media.\n",
    "\n",
    "    Retorna:\n",
    "    pd.DataFrame: El DataFrame modificado.\n",
    "    \"\"\"\n",
    "    for column in columns_to_fill:\n",
    "        mean = dataframe[column].mean()\n",
    "        dataframe[column].fillna(mean, inplace=True)\n",
    "    return dataframe"
   ]
  },
  {
   "cell_type": "code",
   "execution_count": 53,
   "id": "bb72f90b",
   "metadata": {},
   "outputs": [],
   "source": [
    "columns_to_fill_with_mean = ['LOAN', 'VALUE']\n",
    "X_train = fill_null_with_mean(X_train, columns_to_fill_with_mean)"
   ]
  },
  {
   "cell_type": "code",
   "execution_count": 54,
   "id": "c7fd67e2",
   "metadata": {},
   "outputs": [],
   "source": [
    "X_test = fill_null_with_mean(X_test, columns_to_fill_with_mean)"
   ]
  },
  {
   "cell_type": "code",
   "execution_count": 55,
   "id": "0b196bcc",
   "metadata": {},
   "outputs": [],
   "source": [
    "columns_to_standardize = ['LOAN',  'VALUE','CLAGE']#'MORTDUE'\n",
    "\n",
    "# Crea un objeto StandardScaler\n",
    "from sklearn.preprocessing import StandardScaler\n",
    "scaler = StandardScaler()\n",
    "\n",
    "# Aplica la estandarización a las columnas seleccionadas\n",
    "X_train[columns_to_standardize] = scaler.fit_transform(X_train[columns_to_standardize])"
   ]
  },
  {
   "cell_type": "code",
   "execution_count": 56,
   "id": "3d7464f7",
   "metadata": {},
   "outputs": [],
   "source": [
    "# Guardar el objeto StandardScaler en un archivo\n",
    "#import pickle\n",
    "#joblib.dump(scaler, 'scaler_model.pkl')"
   ]
  },
  {
   "cell_type": "code",
   "execution_count": 57,
   "id": "cda6aacb",
   "metadata": {},
   "outputs": [],
   "source": [
    "import pickle\n",
    "import os\n",
    "# Nombre del archivo\n",
    "file_name = 'scaler_model.pkl'\n",
    "\n",
    "# Carpeta de destino\n",
    "folder_name = 'modelos'\n",
    "\n",
    "# Combinar la carpeta de destino con el nombre del archivo\n",
    "file_path = os.path.join(folder_name, file_name)\n",
    "\n",
    "# Asegurarse de que la carpeta exista\n",
    "#os.makedirs(folder_name, exist_ok=True)\n",
    "\n",
    "# Guardar el modelo en un archivo pickle en la carpeta especificada\n",
    "with open(file_path, 'wb') as file:\n",
    "    pickle.dump(scaler, file)"
   ]
  },
  {
   "cell_type": "code",
   "execution_count": 58,
   "id": "b76b2873",
   "metadata": {},
   "outputs": [
    {
     "data": {
      "text/plain": [
       "['LOAN', 'VALUE', 'CLAGE']"
      ]
     },
     "execution_count": 58,
     "metadata": {},
     "output_type": "execute_result"
    }
   ],
   "source": [
    "columns_to_standardize"
   ]
  },
  {
   "cell_type": "code",
   "execution_count": 59,
   "id": "58f8b104",
   "metadata": {},
   "outputs": [],
   "source": [
    "X_test[columns_to_standardize] = scaler.transform(X_test[columns_to_standardize])"
   ]
  },
  {
   "cell_type": "code",
   "execution_count": 60,
   "id": "0a391d90",
   "metadata": {},
   "outputs": [],
   "source": [
    "columnas_con_nulos = X_train.columns[X_train.isnull().any()]\n",
    "# Utiliza el método .drop() para eliminar las columnas con valores nulos\n",
    "X_train_sin_nulos = X_train.drop(columns=columnas_con_nulos)\n",
    "X_test_sin_nulos = X_test.drop(columns=columnas_con_nulos)\n",
    "rows_with_nulls = X_train[columnas_con_nulos].isnull().any(axis=1)\n",
    "X_train_with_nulls = X_train[rows_with_nulls]"
   ]
  },
  {
   "cell_type": "code",
   "execution_count": 61,
   "id": "4fc791b5",
   "metadata": {},
   "outputs": [],
   "source": [
    "X_train_sin_nulos=X_train_sin_nulos.drop(columns=['MORTDUE','REASON:HomeImp'])"
   ]
  },
  {
   "cell_type": "code",
   "execution_count": 62,
   "id": "084af7ec",
   "metadata": {},
   "outputs": [],
   "source": [
    "X_test_sin_nulos=X_test_sin_nulos.drop(columns=['MORTDUE','REASON:HomeImp'])"
   ]
  },
  {
   "cell_type": "code",
   "execution_count": 63,
   "id": "e9e2db74",
   "metadata": {},
   "outputs": [
    {
     "name": "stdout",
     "output_type": "stream",
     "text": [
      "Precisión del modelo: 0.86\n"
     ]
    },
    {
     "name": "stderr",
     "output_type": "stream",
     "text": [
      "C:\\ProgramData\\anaconda3\\envs\\python-3.10\\lib\\site-packages\\sklearn\\linear_model\\_logistic.py:460: ConvergenceWarning: lbfgs failed to converge (status=1):\n",
      "STOP: TOTAL NO. of ITERATIONS REACHED LIMIT.\n",
      "\n",
      "Increase the number of iterations (max_iter) or scale the data as shown in:\n",
      "    https://scikit-learn.org/stable/modules/preprocessing.html\n",
      "Please also refer to the documentation for alternative solver options:\n",
      "    https://scikit-learn.org/stable/modules/linear_model.html#logistic-regression\n",
      "  n_iter_i = _check_optimize_result(\n"
     ]
    }
   ],
   "source": [
    "# Crear un modelo de regresión logística\n",
    "model = LogisticRegression()\n",
    "\n",
    "# Entrenar el modelo en los datos de entrenamiento\n",
    "result=model.fit(X_train_sin_nulos, y_train)\n",
    "\n",
    "# Realizar predicciones en los datos de prueba\n",
    "y_pred = result.predict(X_test_sin_nulos)\n",
    "\n",
    "from sklearn.metrics import accuracy_score, classification_report\n",
    "# Evaluar el rendimiento del modelo\n",
    "accuracy = accuracy_score(y_test, y_pred)\n",
    "print(f'Precisión del modelo: {accuracy:.2f}')"
   ]
  },
  {
   "cell_type": "code",
   "execution_count": 64,
   "id": "4792e532",
   "metadata": {},
   "outputs": [
    {
     "name": "stdout",
     "output_type": "stream",
     "text": [
      "Coeficientes (Betas): [[-9.43267902e-02  1.08146061e-01 -5.63129724e-03  5.36697814e-01\n",
      "   6.98874582e-01 -5.44363868e-01  1.58074290e-01  7.04979032e-04\n",
      "  -5.77036238e-02 -2.42534974e-01  6.76996963e-01  2.98494149e-01\n",
      "   1.04187674e+00  6.09624940e-01  2.26230840e+00  1.32420837e+00]]\n",
      "Intercepto (Beta0): [-1.51916084]\n"
     ]
    }
   ],
   "source": [
    "# Imprimir los coeficientes (betas)\n",
    "coefficients = result.coef_\n",
    "intercept = result.intercept_\n",
    "\n",
    "print(\"Coeficientes (Betas):\", coefficients)\n",
    "print(\"Intercepto (Beta0):\", intercept)"
   ]
  },
  {
   "cell_type": "code",
   "execution_count": 65,
   "id": "f6d47820",
   "metadata": {},
   "outputs": [],
   "source": [
    "import pickle\n",
    "import os\n",
    "\n",
    "# Nombre del archivo\n",
    "file_name = 'modelo.pkl'\n",
    "# Combinar la carpeta de destino con el nombre del archivo\n",
    "file_path = os.path.join(folder_name, file_name)\n",
    "# Guardar el modelo en un archivo pickle en la carpeta especificada\n",
    "with open(file_path, 'wb') as file:\n",
    "    pickle.dump(result, file)"
   ]
  },
  {
   "cell_type": "code",
   "execution_count": 66,
   "id": "7e6b77d3",
   "metadata": {
    "scrolled": true
   },
   "outputs": [
    {
     "name": "stdout",
     "output_type": "stream",
     "text": [
      "ROC AUC: 0.7116959991543786\n",
      "Precisión: 0.7676056338028169\n",
      "Recall: 0.4579831932773109\n",
      "Matriz de Confusión:\n",
      " [[921  33]\n",
      " [129 109]]\n"
     ]
    }
   ],
   "source": [
    "from sklearn.metrics import roc_auc_score, precision_score, recall_score, confusion_matrix\n",
    "\n",
    "# Realizar predicciones con el modelo\n",
    "y_pred_probs = result.predict(X_test_sin_nulos)\n",
    "\n",
    "# Convertir probabilidades en etiquetas de clase (puedes ajustar un umbral si es necesario)\n",
    "y_pred_labels = (y_pred_probs > 0.5).astype(int)\n",
    "\n",
    "# Calcular ROC AUC\n",
    "roc_auc = roc_auc_score(y_test, y_pred_probs)\n",
    "\n",
    "# Calcular precisión\n",
    "precision = precision_score(y_test, y_pred_labels)\n",
    "\n",
    "# Calcular recall\n",
    "recall = recall_score(y_test, y_pred_labels)\n",
    "\n",
    "# Calcular matriz de confusión\n",
    "conf_matrix = confusion_matrix(y_test, y_pred_labels)\n",
    "\n",
    "# Imprimir resultados\n",
    "print(\"ROC AUC:\", roc_auc)\n",
    "print(\"Precisión:\", precision)\n",
    "print(\"Recall:\", recall)\n",
    "print(\"Matriz de Confusión:\\n\", conf_matrix)"
   ]
  },
  {
   "cell_type": "markdown",
   "id": "623abc3d",
   "metadata": {},
   "source": [
    "Testeo predict"
   ]
  },
  {
   "cell_type": "code",
   "execution_count": 67,
   "id": "4dbbb1d3",
   "metadata": {},
   "outputs": [],
   "source": [
    "import pickle\n",
    "import os\n",
    "\n",
    "# Define la ruta a la carpeta donde se encuentran los archivos\n",
    "folder_path = 'C:/Users/jsrie/Downloads/model-pd-2/modelos'\n",
    "\n",
    "def fetch_pickle(file_name):\n",
    "    file_path = os.path.join(folder_path, file_name)\n",
    "    with open(file_path, 'rb') as f:\n",
    "        fetched_object = pickle.load(f)\n",
    "    return fetched_object\n"
   ]
  },
  {
   "cell_type": "code",
   "execution_count": 69,
   "id": "3770fca4",
   "metadata": {},
   "outputs": [],
   "source": [
    "###Prueba FINAL:FUNCIONAAAA\n",
    "#from sklearn.preprocessing import StandardScaler\n",
    "#import numpy as np\n",
    "\n",
    "def predict(sample: list) -> dict:\n",
    "    \"\"\"\n",
    "    'sample': List of feature values, including categorical and continuous variables\n",
    "    \"\"\"\n",
    "    model =fetch_pickle('modelo.pkl')# fetch_pickle(BUCKET_NAME, FOLDER, 'modelo.pkl')\n",
    "\n",
    "    print(f'Received sample: {sample}')\n",
    "    column_order = ['LOAN', 'VALUE', 'YOJ', 'DEROG', 'DELINQ', 'CLAGE', 'NINQ', 'CLNO', 'DEBTINC', 'REASON:DebtCon', 'JOB:Mgr', 'JOB:Office','JOB:Other', 'JOB:ProfExe', 'JOB:Sales', 'JOB:Self']\n",
    "    # Organizar 'sample' en el mismo orden que las columnas de entrenamiento\n",
    "    sample_ordered = [sample[column_order.index(col)] for col in column_order]\n",
    "\n",
    "    # Define las características a las que deseas aplicar el StandardScaler\n",
    "    features_to_scale = ['LOAN', 'VALUE', 'CLAGE']\n",
    "\n",
    "    # Define los índices de las variables categóricas en 'sample'\n",
    "    categorical_indices = [column_order.index(col) for col in column_order if col not in features_to_scale]\n",
    "    # Separate the categorical variables from the continuous variables\n",
    "    categorical_variables = [sample[i] for i in categorical_indices]\n",
    "    continuous_variables = [sample[i] for i in range(len(sample)) if i not in categorical_indices]\n",
    "\n",
    "    # Apply scaling to continuous variables using StandardScaler\n",
    "    scaler =fetch_pickle('scaler_model.pkl')# fetch_pickle(BUCKET_NAME, FOLDER, 'scaler_model.pkl')\n",
    "    scaled_continuous_variables = scaler.transform([continuous_variables])\n",
    "\n",
    "    categorical_variables_2d = np.array(categorical_variables).reshape(1, -1)\n",
    "\n",
    "    # Concatenate the transformed categorical variables with the scaled continuous variables\n",
    "    input_data = np.concatenate([categorical_variables_2d, scaled_continuous_variables], axis=1)\n",
    "    # Add a constant term (intercept) to the input data\n",
    "    #input_data_with_constant = sm.add_constant(input_data)\n",
    "    \n",
    "    # Add a constant term (intercept) to the input data manually\n",
    "    #constant_column = np.ones((input_data.shape[0], 1))\n",
    "    #input_data_with_constant = np.concatenate([constant_column, input_data], axis=1)\n",
    "    # Define el nuevo orden de las columnas\n",
    "    new_order = [ 13, 14, 0, 1, 2, 15, 3, 4, 5, 6, 7,8, 9, 10, 11,12]\n",
    "\n",
    "    # Reorganiza las columnas en el nuevo orden\n",
    "    input_data_fin = input_data[:, new_order]\n",
    "    # Realizar la predicción de regresión logística\n",
    "    predicted_probabilities = model.predict_proba(input_data_fin)[:, 1]\n",
    "    # Perform the logistic regression prediction\n",
    "    #predicted_probabilities = model.predict(input_data_with_constant)\n",
    "\n",
    "    # Assuming you want to classify based on a probability threshold (e.g., 0.5)\n",
    "    predicted_class = 1 if predicted_probabilities >= 0.5 else 0\n",
    "\n",
    "    predicted_result = {\n",
    "        'sample': sample,\n",
    "        'predicted_class': predicted_class,\n",
    "        'predicted_probabilities': predicted_probabilities\n",
    "    }\n",
    "\n",
    "    return predicted_result"
   ]
  },
  {
   "cell_type": "code",
   "execution_count": 114,
   "id": "479880bd",
   "metadata": {},
   "outputs": [
    {
     "name": "stdout",
     "output_type": "stream",
     "text": [
      "Received sample: [10700, 64838, 9.0, 0.0, 0.0, 95.039168, 2.0, 34.0, 40.396233444, 0.0, 0.0, 0.0, 1.0, 0.0, 0.0, 0.0]\n"
     ]
    },
    {
     "name": "stderr",
     "output_type": "stream",
     "text": [
      "C:\\ProgramData\\anaconda3\\envs\\python-3.10\\lib\\site-packages\\sklearn\\base.py:464: UserWarning: X does not have valid feature names, but StandardScaler was fitted with feature names\n",
      "  warnings.warn(\n",
      "C:\\ProgramData\\anaconda3\\envs\\python-3.10\\lib\\site-packages\\sklearn\\base.py:464: UserWarning: X does not have valid feature names, but LogisticRegression was fitted with feature names\n",
      "  warnings.warn(\n"
     ]
    },
    {
     "name": "stdout",
     "output_type": "stream",
     "text": [
      "{'sample': [10700, 64838, 9.0, 0.0, 0.0, 95.039168, 2.0, 34.0, 40.396233444, 0.0, 0.0, 0.0, 1.0, 0.0, 0.0, 0.0], 'predicted_class': 0, 'predicted_probabilities': array([0.11035269])}\n"
     ]
    }
   ],
   "source": [
    "sample=[10700, 64838, 9.0, 0.0, 0.0, 95.039168, 2.0, 34.0, 40.396233444, 0.0, 0.0, 0.0, 1.0, 0.0, 0.0, 0.0]\n",
    "# Call the 'predict' function with the 'sample' list\n",
    "result = predict(sample)\n",
    "\n",
    "# Print the prediction result\n",
    "print(result)\n"
   ]
  },
  {
   "cell_type": "code",
   "execution_count": 123,
   "id": "5175eb09",
   "metadata": {
    "scrolled": true
   },
   "outputs": [
    {
     "name": "stdout",
     "output_type": "stream",
     "text": [
      "Loading modelo.pkl from local\n",
      "Received sample: [10700, 64838, 9.0, 0.0, 0.0, 95.039168, 2.0, 34.0, 40.396233444, 0.0, 0.0, 0.0, 1.0, 0.0, 0.0, 0.0]\n",
      "Loading scaler_model.pkl from local\n"
     ]
    },
    {
     "name": "stderr",
     "output_type": "stream",
     "text": [
      "C:\\ProgramData\\anaconda3\\envs\\python-3.10\\lib\\site-packages\\sklearn\\base.py:464: UserWarning: X does not have valid feature names, but StandardScaler was fitted with feature names\n",
      "  warnings.warn(\n",
      "C:\\ProgramData\\anaconda3\\envs\\python-3.10\\lib\\site-packages\\sklearn\\base.py:464: UserWarning: X does not have valid feature names, but LogisticRegression was fitted with feature names\n",
      "  warnings.warn(\n"
     ]
    },
    {
     "data": {
      "text/plain": [
       "{'sample': [10700,\n",
       "  64838,\n",
       "  9.0,\n",
       "  0.0,\n",
       "  0.0,\n",
       "  95.039168,\n",
       "  2.0,\n",
       "  34.0,\n",
       "  40.396233444,\n",
       "  0.0,\n",
       "  0.0,\n",
       "  0.0,\n",
       "  1.0,\n",
       "  0.0,\n",
       "  0.0,\n",
       "  0.0],\n",
       " 'predicted_class': 0,\n",
       " 'predicted_probabilities': array([0.11035269])}"
      ]
     },
     "execution_count": 123,
     "metadata": {},
     "output_type": "execute_result"
    }
   ],
   "source": [
    "sample=[10700, 64838, 9.0, 0.0, 0.0, 95.039168, 2.0, 34.0, 40.396233444, 0.0, 0.0, 0.0, 1.0, 0.0, 0.0, 0.0]\n",
    "\n",
    "pr.predict(sample)"
   ]
  },
  {
   "cell_type": "code",
   "execution_count": 124,
   "id": "65a5f6eb",
   "metadata": {},
   "outputs": [
    {
     "data": {
      "text/plain": [
       "<Response [200]>"
      ]
     },
     "execution_count": 124,
     "metadata": {},
     "output_type": "execute_result"
    }
   ],
   "source": [
    "import requests as req\n",
    "req.get('http://localhost:5000/pagador?LOAN=5000&VALUE=10000&YOJ=2&DEROG=0&DELINQ=0&CLAGE=30&NINQ=1&CLNO=10&DEBTINC=35&REASON:DebtCon=1&JOB:Mgr=0&JOB:Office=1&JOB:Other=0&JOB:ProfExe=0&JOB:Sales=0&JOB:Self=0')"
   ]
  }
 ],
 "metadata": {
  "kernelspec": {
   "display_name": "python-3.10",
   "language": "python",
   "name": "python-3.10"
  },
  "language_info": {
   "codemirror_mode": {
    "name": "ipython",
    "version": 3
   },
   "file_extension": ".py",
   "mimetype": "text/x-python",
   "name": "python",
   "nbconvert_exporter": "python",
   "pygments_lexer": "ipython3",
   "version": "3.10.13"
  }
 },
 "nbformat": 4,
 "nbformat_minor": 5
}
