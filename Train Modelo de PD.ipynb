{
 "cells": [
  {
   "cell_type": "code",
   "execution_count": 1,
   "id": "429956ad",
   "metadata": {},
   "outputs": [],
   "source": [
    "#Librerias\n",
    "import pandas as pd\n",
    "import numpy as np\n",
    "import seaborn as sns\n",
    "import matplotlib.pyplot as plt\n",
    "from sklearn.model_selection import train_test_split, RepeatedStratifiedKFold, cross_val_score\n",
    "from sklearn.linear_model import LogisticRegression\n",
    "from sklearn.metrics import roc_curve, roc_auc_score, confusion_matrix, precision_recall_curve, auc,precision_score, recall_score\n",
    "from sklearn.feature_selection import f_classif\n",
    "from sklearn.pipeline import Pipeline\n",
    "from sklearn.base import BaseEstimator, TransformerMixin\n",
    "#from scipy.stats import chi2_contingency\n",
    "import pickle\n",
    "import os\n",
    "import statsmodels.api as sm\n",
    "from sklearn.metrics import accuracy_score, classification_report\n",
    "\n",
    "\n",
    "#Modulos\n",
    "import PredictionVF as pr\n",
    "import aws_utils as au"
   ]
  },
  {
   "cell_type": "code",
   "execution_count": 2,
   "id": "5f6f918e",
   "metadata": {},
   "outputs": [],
   "source": [
    "REGION = 'us-east-1'\n",
    "BUCKET_NAME = 'modelo-pd-2' \n",
    "FOLDER = 'modelos' "
   ]
  },
  {
   "cell_type": "code",
   "execution_count": 3,
   "id": "d6d991da",
   "metadata": {},
   "outputs": [
    {
     "data": {
      "text/html": [
       "<div>\n",
       "<style scoped>\n",
       "    .dataframe tbody tr th:only-of-type {\n",
       "        vertical-align: middle;\n",
       "    }\n",
       "\n",
       "    .dataframe tbody tr th {\n",
       "        vertical-align: top;\n",
       "    }\n",
       "\n",
       "    .dataframe thead th {\n",
       "        text-align: right;\n",
       "    }\n",
       "</style>\n",
       "<table border=\"1\" class=\"dataframe\">\n",
       "  <thead>\n",
       "    <tr style=\"text-align: right;\">\n",
       "      <th></th>\n",
       "      <th>BAD</th>\n",
       "      <th>LOAN</th>\n",
       "      <th>MORTDUE</th>\n",
       "      <th>VALUE</th>\n",
       "      <th>REASON</th>\n",
       "      <th>JOB</th>\n",
       "      <th>YOJ</th>\n",
       "      <th>DEROG</th>\n",
       "      <th>DELINQ</th>\n",
       "      <th>CLAGE</th>\n",
       "      <th>NINQ</th>\n",
       "      <th>CLNO</th>\n",
       "      <th>DEBTINC</th>\n",
       "    </tr>\n",
       "  </thead>\n",
       "  <tbody>\n",
       "    <tr>\n",
       "      <th>0</th>\n",
       "      <td>1</td>\n",
       "      <td>1100</td>\n",
       "      <td>25860.0</td>\n",
       "      <td>39025.0</td>\n",
       "      <td>HomeImp</td>\n",
       "      <td>Other</td>\n",
       "      <td>10.5</td>\n",
       "      <td>0.0</td>\n",
       "      <td>0.0</td>\n",
       "      <td>94.366667</td>\n",
       "      <td>1.0</td>\n",
       "      <td>9.0</td>\n",
       "      <td>NaN</td>\n",
       "    </tr>\n",
       "    <tr>\n",
       "      <th>1</th>\n",
       "      <td>1</td>\n",
       "      <td>1300</td>\n",
       "      <td>70053.0</td>\n",
       "      <td>68400.0</td>\n",
       "      <td>HomeImp</td>\n",
       "      <td>Other</td>\n",
       "      <td>7.0</td>\n",
       "      <td>0.0</td>\n",
       "      <td>2.0</td>\n",
       "      <td>121.833333</td>\n",
       "      <td>0.0</td>\n",
       "      <td>14.0</td>\n",
       "      <td>NaN</td>\n",
       "    </tr>\n",
       "    <tr>\n",
       "      <th>2</th>\n",
       "      <td>1</td>\n",
       "      <td>1500</td>\n",
       "      <td>13500.0</td>\n",
       "      <td>16700.0</td>\n",
       "      <td>HomeImp</td>\n",
       "      <td>Other</td>\n",
       "      <td>4.0</td>\n",
       "      <td>0.0</td>\n",
       "      <td>0.0</td>\n",
       "      <td>149.466667</td>\n",
       "      <td>1.0</td>\n",
       "      <td>10.0</td>\n",
       "      <td>NaN</td>\n",
       "    </tr>\n",
       "    <tr>\n",
       "      <th>3</th>\n",
       "      <td>1</td>\n",
       "      <td>1500</td>\n",
       "      <td>NaN</td>\n",
       "      <td>NaN</td>\n",
       "      <td>NaN</td>\n",
       "      <td>NaN</td>\n",
       "      <td>NaN</td>\n",
       "      <td>NaN</td>\n",
       "      <td>NaN</td>\n",
       "      <td>NaN</td>\n",
       "      <td>NaN</td>\n",
       "      <td>NaN</td>\n",
       "      <td>NaN</td>\n",
       "    </tr>\n",
       "    <tr>\n",
       "      <th>4</th>\n",
       "      <td>0</td>\n",
       "      <td>1700</td>\n",
       "      <td>97800.0</td>\n",
       "      <td>112000.0</td>\n",
       "      <td>HomeImp</td>\n",
       "      <td>Office</td>\n",
       "      <td>3.0</td>\n",
       "      <td>0.0</td>\n",
       "      <td>0.0</td>\n",
       "      <td>93.333333</td>\n",
       "      <td>0.0</td>\n",
       "      <td>14.0</td>\n",
       "      <td>NaN</td>\n",
       "    </tr>\n",
       "  </tbody>\n",
       "</table>\n",
       "</div>"
      ],
      "text/plain": [
       "   BAD  LOAN  MORTDUE     VALUE   REASON     JOB   YOJ  DEROG  DELINQ  \\\n",
       "0    1  1100  25860.0   39025.0  HomeImp   Other  10.5    0.0     0.0   \n",
       "1    1  1300  70053.0   68400.0  HomeImp   Other   7.0    0.0     2.0   \n",
       "2    1  1500  13500.0   16700.0  HomeImp   Other   4.0    0.0     0.0   \n",
       "3    1  1500      NaN       NaN      NaN     NaN   NaN    NaN     NaN   \n",
       "4    0  1700  97800.0  112000.0  HomeImp  Office   3.0    0.0     0.0   \n",
       "\n",
       "        CLAGE  NINQ  CLNO  DEBTINC  \n",
       "0   94.366667   1.0   9.0      NaN  \n",
       "1  121.833333   0.0  14.0      NaN  \n",
       "2  149.466667   1.0  10.0      NaN  \n",
       "3         NaN   NaN   NaN      NaN  \n",
       "4   93.333333   0.0  14.0      NaN  "
      ]
     },
     "execution_count": 3,
     "metadata": {},
     "output_type": "execute_result"
    }
   ],
   "source": [
    "#Cargamos el dataset\n",
    "loan_data = pd.read_csv('hmeq.csv',sep=\",\")\n",
    "loan_data.head()"
   ]
  },
  {
   "cell_type": "code",
   "execution_count": 4,
   "id": "0ffbad9e",
   "metadata": {},
   "outputs": [
    {
     "data": {
      "text/plain": [
       "Series([], dtype: float64)"
      ]
     },
     "execution_count": 4,
     "metadata": {},
     "output_type": "execute_result"
    }
   ],
   "source": [
    "#Controlamos si las variables tienen mas del 70% con nulos\n",
    "na_values = loan_data.isnull().mean()\n",
    "na_values[na_values>0.7]"
   ]
  },
  {
   "cell_type": "code",
   "execution_count": 5,
   "id": "125636f3",
   "metadata": {},
   "outputs": [],
   "source": [
    "# Separamos el target de las variables\n",
    "X = loan_data.drop('BAD', axis = 1)\n",
    "#definimos el target\n",
    "y = loan_data['BAD']\n",
    "#Dividimos el dataset en testeo y train, usamos para entrenar el 80% y el 20% para testeo\n",
    "X_train, X_test, y_train, y_test = train_test_split(X, y, test_size = 0.2, random_state = 42, stratify = y)\n",
    "\n",
    "#X_train, X_test = X_train.copy(), X_test.copy()"
   ]
  },
  {
   "cell_type": "code",
   "execution_count": 6,
   "id": "612ff4d7",
   "metadata": {},
   "outputs": [],
   "source": [
    "#Dividimos las variables categoricas de las numericas\n",
    "X_train_cat = X_train.select_dtypes(include = 'object').copy()\n",
    "X_train_num = X_train.select_dtypes(include = 'number').copy()"
   ]
  },
  {
   "cell_type": "code",
   "execution_count": 32,
   "id": "a73e6c5c",
   "metadata": {},
   "outputs": [
    {
     "name": "stdout",
     "output_type": "stream",
     "text": [
      "             LOAN   MORTDUE     VALUE       YOJ     DEROG    DELINQ     CLAGE  \\\n",
      "LOAN     1.000000  0.215135  0.323422  0.111133 -0.000850 -0.031777  0.090165   \n",
      "MORTDUE  0.215135  1.000000  0.871692 -0.088285 -0.048923 -0.001182  0.146135   \n",
      "VALUE    0.323422  0.871692  1.000000  0.006733 -0.044227 -0.011572  0.176028   \n",
      "YOJ      0.111133 -0.088285  0.006733  1.000000 -0.058645  0.048073  0.195823   \n",
      "DEROG   -0.000850 -0.048923 -0.044227 -0.058645  1.000000  0.201555 -0.084036   \n",
      "DELINQ  -0.031777 -0.001182 -0.011572  0.048073  0.201555  1.000000  0.023732   \n",
      "CLAGE    0.090165  0.146135  0.176028  0.195823 -0.084036  0.023732  1.000000   \n",
      "NINQ     0.049083  0.027545 -0.001404 -0.075249  0.178390  0.055445 -0.113010   \n",
      "CLNO     0.069648  0.316789  0.263231  0.031664  0.063091  0.166859  0.236212   \n",
      "DEBTINC  0.070871  0.143106  0.125129 -0.049710  0.020302  0.038468 -0.044667   \n",
      "\n",
      "             NINQ      CLNO   DEBTINC  \n",
      "LOAN     0.049083  0.069648  0.070871  \n",
      "MORTDUE  0.027545  0.316789  0.143106  \n",
      "VALUE   -0.001404  0.263231  0.125129  \n",
      "YOJ     -0.075249  0.031664 -0.049710  \n",
      "DEROG    0.178390  0.063091  0.020302  \n",
      "DELINQ   0.055445  0.166859  0.038468  \n",
      "CLAGE   -0.113010  0.236212 -0.044667  \n",
      "NINQ     1.000000  0.087589  0.137105  \n",
      "CLNO     0.087589  1.000000  0.187612  \n",
      "DEBTINC  0.137105  0.187612  1.000000  \n"
     ]
    }
   ],
   "source": [
    "# Calculamos la matriz de correlación de Pearson\n",
    "correlation_matrix = X_train_num.corr(method='pearson')\n",
    "print(correlation_matrix)"
   ]
  },
  {
   "cell_type": "code",
   "execution_count": 31,
   "id": "5e3e8bc5",
   "metadata": {},
   "outputs": [
    {
     "data": {
      "image/png": "[encoded data removed]",
      "text/plain": [
       "<Figure size 800x600 with 2 Axes>"
      ]
     },
     "metadata": {},
     "output_type": "display_data"
    }
   ],
   "source": [
    "# Creamos un mapa de calor, se detecta alta correlacion entre value y mortdue. \n",
    "#Por tal motivo se procede a descartar una de las variables posteriormente\n",
    "plt.figure(figsize=(8, 6))\n",
    "sns.heatmap(correlation_matrix, annot=True, cmap='coolwarm', linewidths=.5)\n",
    "plt.title('Mapa de Calor de la Matriz de Correlación de Pearson')\n",
    "plt.show()"
   ]
  },
  {
   "cell_type": "code",
   "execution_count": 7,
   "id": "24fb28ad",
   "metadata": {},
   "outputs": [],
   "source": [
    "# creamos la funcion para converir a dummy las variables categoricas\n",
    "def dummy_creation(df, columns_list):\n",
    "    df_dummies = []\n",
    "    for col in columns_list:\n",
    "        df_dummies.append(pd.get_dummies(df[col], prefix = col, prefix_sep = ':'))\n",
    "    df_dummies = pd.concat(df_dummies, axis = 1)\n",
    "    df = pd.concat([df, df_dummies], axis = 1)\n",
    "    return df"
   ]
  },
  {
   "cell_type": "code",
   "execution_count": 8,
   "id": "845a42cd",
   "metadata": {},
   "outputs": [],
   "source": [
    "# Transformamos las variables categoricas en dummy\n",
    "X_train = dummy_creation(X_train, ['REASON', 'JOB'])#'verification_status',\n",
    "X_test = dummy_creation(X_test, ['REASON', 'JOB'])"
   ]
  },
  {
   "cell_type": "code",
   "execution_count": 9,
   "id": "81d8700a",
   "metadata": {},
   "outputs": [],
   "source": [
    "#creamos funcion para completar los nulos con ceros de determinadas columnas\n",
    "def fill_null_with_zeros(dataframe, columns_to_fill):\n",
    "    for column in columns_to_fill:\n",
    "        dataframe[column].fillna(0, inplace=True)\n",
    "    return dataframe"
   ]
  },
  {
   "cell_type": "code",
   "execution_count": 10,
   "id": "561bb7f6",
   "metadata": {},
   "outputs": [],
   "source": [
    "#Definimos las columnas a completar con cero\n",
    "columns_to_fill_with_zeros = ['DEROG', 'DEBTINC','DELINQ','NINQ','CLNO','MORTDUE','YOJ','CLAGE']"
   ]
  },
  {
   "cell_type": "code",
   "execution_count": 11,
   "id": "0ac91e5f",
   "metadata": {},
   "outputs": [],
   "source": [
    "#completamso con cero las columnas definidas anteriormente\n",
    "X_train=fill_null_with_zeros(X_train, columns_to_fill_with_zeros)\n",
    "X_test=fill_null_with_zeros(X_test, columns_to_fill_with_zeros)"
   ]
  },
  {
   "cell_type": "code",
   "execution_count": 12,
   "id": "3fe53b99",
   "metadata": {},
   "outputs": [],
   "source": [
    "#creamos funcion para completar con la media los valores nulos\n",
    "def fill_null_with_mean(dataframe, columns_to_fill):\n",
    "    for column in columns_to_fill:\n",
    "        mean = dataframe[column].mean()\n",
    "        dataframe[column].fillna(mean, inplace=True)\n",
    "    return dataframe"
   ]
  },
  {
   "cell_type": "code",
   "execution_count": 13,
   "id": "bb72f90b",
   "metadata": {},
   "outputs": [],
   "source": [
    "#Definimos las columnas a completar los nulos con la media\n",
    "columns_to_fill_with_mean = ['LOAN', 'VALUE']\n",
    "X_train = fill_null_with_mean(X_train, columns_to_fill_with_mean)\n",
    "X_test = fill_null_with_mean(X_test, columns_to_fill_with_mean)"
   ]
  },
  {
   "cell_type": "code",
   "execution_count": 14,
   "id": "0b196bcc",
   "metadata": {},
   "outputs": [],
   "source": [
    "#Definimos las columnas a standarizar (se descarto mortdue por correlacion con value)\n",
    "columns_to_standardize = ['LOAN',  'VALUE','CLAGE']#'MORTDUE'\n",
    "\n",
    "# Creamos un objeto StandardScaler\n",
    "from sklearn.preprocessing import StandardScaler\n",
    "scaler = StandardScaler()\n",
    "\n",
    "# Aplicamos la estandarización a las columnas seleccionadas\n",
    "X_train[columns_to_standardize] = scaler.fit_transform(X_train[columns_to_standardize])\n",
    "X_test[columns_to_standardize] = scaler.transform(X_test[columns_to_standardize])"
   ]
  },
  {
   "cell_type": "code",
   "execution_count": 15,
   "id": "cda6aacb",
   "metadata": {},
   "outputs": [],
   "source": [
    "# Definimos el nombre del archivo\n",
    "file_name = 'scaler_model.pkl'\n",
    "# Carpeta de destino\n",
    "folder_name = 'modelos'\n",
    "# Combinamo la carpeta de destino con el nombre del archivo\n",
    "file_path = os.path.join(folder_name, file_name)\n",
    "# Guardamos el modelo en un archivo pickle en la carpeta especificada\n",
    "with open(file_path, 'wb') as file:\n",
    "    pickle.dump(scaler, file)"
   ]
  },
  {
   "cell_type": "code",
   "execution_count": 16,
   "id": "0a391d90",
   "metadata": {},
   "outputs": [],
   "source": [
    "# Utiliza el método .drop() para eliminar las columnas con valores nulos\n",
    "columnas_con_nulos = X_train.columns[X_train.isnull().any()]\n",
    "X_train_sin_nulos = X_train.drop(columns=columnas_con_nulos)\n",
    "X_test_sin_nulos = X_test.drop(columns=columnas_con_nulos)\n",
    "#vamos a eliminar las filas con las columnas con nulos (previamente se detecto que los registros tenian variables vacias)\n",
    "rows_with_nulls = X_train[columnas_con_nulos].isnull().any(axis=1)\n",
    "X_train_with_nulls = X_train[rows_with_nulls]"
   ]
  },
  {
   "cell_type": "code",
   "execution_count": 17,
   "id": "8cdee2e1",
   "metadata": {},
   "outputs": [],
   "source": [
    "#Eliminamos las variables de mortdue y reason\n",
    "X_train_sin_nulos=X_train_sin_nulos.drop(columns=['MORTDUE','REASON:HomeImp'])\n",
    "X_test_sin_nulos=X_test_sin_nulos.drop(columns=['MORTDUE','REASON:HomeImp'])"
   ]
  },
  {
   "cell_type": "code",
   "execution_count": 29,
   "id": "60c5f97e",
   "metadata": {},
   "outputs": [
    {
     "name": "stdout",
     "output_type": "stream",
     "text": [
      "Accuracy del modelo: 0.86\n"
     ]
    },
    {
     "name": "stderr",
     "output_type": "stream",
     "text": [
      "C:\\ProgramData\\anaconda3\\envs\\python-3.10\\lib\\site-packages\\sklearn\\linear_model\\_logistic.py:460: ConvergenceWarning: lbfgs failed to converge (status=1):\n",
      "STOP: TOTAL NO. of ITERATIONS REACHED LIMIT.\n",
      "\n",
      "Increase the number of iterations (max_iter) or scale the data as shown in:\n",
      "    https://scikit-learn.org/stable/modules/preprocessing.html\n",
      "Please also refer to the documentation for alternative solver options:\n",
      "    https://scikit-learn.org/stable/modules/linear_model.html#logistic-regression\n",
      "  n_iter_i = _check_optimize_result(\n"
     ]
    }
   ],
   "source": [
    "# Modelo de regresión logística\n",
    "model = LogisticRegression()\n",
    "# Entrenamos el modelo en los datos de entrenamiento\n",
    "result=model.fit(X_train_sin_nulos, y_train)\n",
    "# Realizamos predicciones en los datos de prueba\n",
    "y_pred = result.predict(X_test_sin_nulos)\n",
    "# Evaluamos el rendimiento del modelo\n",
    "accuracy = accuracy_score(y_test, y_pred)\n",
    "print(f'Accuracy del modelo: {accuracy:.2f}')"
   ]
  },
  {
   "cell_type": "code",
   "execution_count": 24,
   "id": "46d0d958",
   "metadata": {},
   "outputs": [
    {
     "name": "stdout",
     "output_type": "stream",
     "text": [
      "Coeficientes (Betas): [[-9.43267902e-02  1.08146061e-01 -5.63129724e-03  5.36697814e-01\n",
      "   6.98874582e-01 -5.44363868e-01  1.58074290e-01  7.04979032e-04\n",
      "  -5.77036238e-02 -2.42534974e-01  6.76996963e-01  2.98494149e-01\n",
      "   1.04187674e+00  6.09624940e-01  2.26230840e+00  1.32420837e+00]]\n",
      "Intercepto (Beta0): [-1.51916084]\n"
     ]
    }
   ],
   "source": [
    "# Parametros del modelo (betas)\n",
    "coefficients = result.coef_\n",
    "intercept = result.intercept_\n",
    "\n",
    "print(\"Coeficientes (Betas):\", coefficients)\n",
    "print(\"Intercepto (Beta0):\", intercept)"
   ]
  },
  {
   "cell_type": "code",
   "execution_count": 25,
   "id": "f6d47820",
   "metadata": {},
   "outputs": [],
   "source": [
    "# Nombre del archivo\n",
    "file_name = 'modelo.pkl'\n",
    "# Combinamos la carpeta de destino con el nombre del archivo\n",
    "file_path = os.path.join(folder_name, file_name)\n",
    "# Guardamos el modelo en un archivo pickle en la carpeta especificada\n",
    "with open(file_path, 'wb') as file:\n",
    "    pickle.dump(result, file)"
   ]
  },
  {
   "cell_type": "code",
   "execution_count": 26,
   "id": "7e6b77d3",
   "metadata": {
    "scrolled": true
   },
   "outputs": [
    {
     "name": "stdout",
     "output_type": "stream",
     "text": [
      "ROC AUC: 0.7116959991543786\n",
      "Precisión: 0.7676056338028169\n",
      "Recall: 0.4579831932773109\n",
      "Matriz de Confusión:\n",
      " [[921  33]\n",
      " [129 109]]\n"
     ]
    }
   ],
   "source": [
    "# Realizamos predicciones con el modelo\n",
    "y_pred_probs = result.predict(X_test_sin_nulos)\n",
    "# Convertimos probabilidades en etiquetas de clase, umbral de 0.5\n",
    "y_pred_labels = (y_pred_probs > 0.5).astype(int)\n",
    "# Calculamos ROC AUC\n",
    "roc_auc = roc_auc_score(y_test, y_pred_probs)\n",
    "# Calculamos precisión\n",
    "precision = precision_score(y_test, y_pred_labels)\n",
    "# Calculamos recall\n",
    "recall = recall_score(y_test, y_pred_labels)\n",
    "# Calculamos matriz de confusión\n",
    "conf_matrix = confusion_matrix(y_test, y_pred_labels)\n",
    "# Resultados\n",
    "print(\"ROC AUC:\", roc_auc)\n",
    "print(\"Precisión:\", precision)\n",
    "print(\"Recall:\", recall)\n",
    "print(\"Matriz de Confusión:\\n\", conf_matrix)"
   ]
  },
  {
   "cell_type": "markdown",
   "id": "623abc3d",
   "metadata": {},
   "source": [
    "Testeo predict"
   ]
  },
  {
   "cell_type": "code",
   "execution_count": 67,
   "id": "4dbbb1d3",
   "metadata": {},
   "outputs": [],
   "source": [
    "# Ruta a la carpeta donde se encuentran los archivos\n",
    "folder_path = 'C:/Users/jsrie/Downloads/model-pd-2/modelos'\n",
    "\n",
    "def fetch_pickle(file_name):\n",
    "    file_path = os.path.join(folder_path, file_name)\n",
    "    with open(file_path, 'rb') as f:\n",
    "        fetched_object = pickle.load(f)\n",
    "    return fetched_object\n"
   ]
  },
  {
   "cell_type": "code",
   "execution_count": 69,
   "id": "59b8997c",
   "metadata": {},
   "outputs": [],
   "source": [
    "###Prueba FINAL:FUNCIONAAAA\n",
    "#from sklearn.preprocessing import StandardScaler\n",
    "#import numpy as np\n",
    "\n",
    "def predict(sample: list) -> dict:\n",
    "    model =fetch_pickle('modelo.pkl')# fetch_pickle(BUCKET_NAME, FOLDER, 'modelo.pkl')\n",
    "\n",
    "    print(f'Received sample: {sample}')\n",
    "    column_order = ['LOAN', 'VALUE', 'YOJ', 'DEROG', 'DELINQ', 'CLAGE', 'NINQ', 'CLNO', 'DEBTINC', 'REASON:DebtCon', 'JOB:Mgr', 'JOB:Office','JOB:Other', 'JOB:ProfExe', 'JOB:Sales', 'JOB:Self']\n",
    "    # Organizamos'sample' en el mismo orden que las columnas de entrenamiento\n",
    "    sample_ordered = [sample[column_order.index(col)] for col in column_order]\n",
    "    # Definimos las variables a las que deseas aplicar el StandardScaler\n",
    "    features_to_scale = ['LOAN', 'VALUE', 'CLAGE']\n",
    "    # Definimos los índices de las variables categóricas en 'sample'\n",
    "    categorical_indices = [column_order.index(col) for col in column_order if col not in features_to_scale]\n",
    "    # Separamos las varibles categoricas de las numericas\n",
    "    categorical_variables = [sample[i] for i in categorical_indices]\n",
    "    continuous_variables = [sample[i] for i in range(len(sample)) if i not in categorical_indices]\n",
    "    # Aplicamos standar scalar a las varibles continuas\n",
    "    scaler =fetch_pickle('scaler_model.pkl')# fetch_pickle(BUCKET_NAME, FOLDER, 'scaler_model.pkl')\n",
    "    scaled_continuous_variables = scaler.transform([continuous_variables])\n",
    "    categorical_variables_2d = np.array(categorical_variables).reshape(1, -1)\n",
    "    # Unificamos el input transformado\n",
    "    input_data = np.concatenate([categorical_variables_2d, scaled_continuous_variables], axis=1)\n",
    "    # Definimos el nuevo orden de las columnas\n",
    "    new_order = [ 13, 14, 0, 1, 2, 15, 3, 4, 5, 6, 7,8, 9, 10, 11,12]\n",
    "    # Reorganizamos las columnas en el nuevo orden\n",
    "    input_data_fin = input_data[:, new_order]\n",
    "    # Realizamos la predicción de regresión logística\n",
    "    predicted_probabilities = model.predict_proba(input_data_fin)[:, 1]\n",
    "    # Clase predicha\n",
    "    predicted_class = 1 if predicted_probabilities >= 0.5 else 0\n",
    "    predicted_result = {\n",
    "        'sample': sample,\n",
    "        'predicted_class': predicted_class,\n",
    "        'predicted_probabilities': predicted_probabilities\n",
    "    }\n",
    "\n",
    "    return predicted_result"
   ]
  },
  {
   "cell_type": "code",
   "execution_count": 114,
   "id": "479880bd",
   "metadata": {},
   "outputs": [
    {
     "name": "stdout",
     "output_type": "stream",
     "text": [
      "Received sample: [10700, 64838, 9.0, 0.0, 0.0, 95.039168, 2.0, 34.0, 40.396233444, 0.0, 0.0, 0.0, 1.0, 0.0, 0.0, 0.0]\n"
     ]
    },
    {
     "name": "stderr",
     "output_type": "stream",
     "text": [
      "C:\\ProgramData\\anaconda3\\envs\\python-3.10\\lib\\site-packages\\sklearn\\base.py:464: UserWarning: X does not have valid feature names, but StandardScaler was fitted with feature names\n",
      "  warnings.warn(\n",
      "C:\\ProgramData\\anaconda3\\envs\\python-3.10\\lib\\site-packages\\sklearn\\base.py:464: UserWarning: X does not have valid feature names, but LogisticRegression was fitted with feature names\n",
      "  warnings.warn(\n"
     ]
    },
    {
     "name": "stdout",
     "output_type": "stream",
     "text": [
      "{'sample': [10700, 64838, 9.0, 0.0, 0.0, 95.039168, 2.0, 34.0, 40.396233444, 0.0, 0.0, 0.0, 1.0, 0.0, 0.0, 0.0], 'predicted_class': 0, 'predicted_probabilities': array([0.11035269])}\n"
     ]
    }
   ],
   "source": [
    "sample=[10700, 64838, 9.0, 0.0, 0.0, 95.039168, 2.0, 34.0, 40.396233444, 0.0, 0.0, 0.0, 1.0, 0.0, 0.0, 0.0]\n",
    "result = predict(sample)\n",
    "print(result)\n"
   ]
  },
  {
   "cell_type": "code",
   "execution_count": 123,
   "id": "5175eb09",
   "metadata": {
    "scrolled": true
   },
   "outputs": [
    {
     "name": "stdout",
     "output_type": "stream",
     "text": [
      "Loading modelo.pkl from local\n",
      "Received sample: [10700, 64838, 9.0, 0.0, 0.0, 95.039168, 2.0, 34.0, 40.396233444, 0.0, 0.0, 0.0, 1.0, 0.0, 0.0, 0.0]\n",
      "Loading scaler_model.pkl from local\n"
     ]
    },
    {
     "name": "stderr",
     "output_type": "stream",
     "text": [
      "C:\\ProgramData\\anaconda3\\envs\\python-3.10\\lib\\site-packages\\sklearn\\base.py:464: UserWarning: X does not have valid feature names, but StandardScaler was fitted with feature names\n",
      "  warnings.warn(\n",
      "C:\\ProgramData\\anaconda3\\envs\\python-3.10\\lib\\site-packages\\sklearn\\base.py:464: UserWarning: X does not have valid feature names, but LogisticRegression was fitted with feature names\n",
      "  warnings.warn(\n"
     ]
    },
    {
     "data": {
      "text/plain": [
       "{'sample': [10700,\n",
       "  64838,\n",
       "  9.0,\n",
       "  0.0,\n",
       "  0.0,\n",
       "  95.039168,\n",
       "  2.0,\n",
       "  34.0,\n",
       "  40.396233444,\n",
       "  0.0,\n",
       "  0.0,\n",
       "  0.0,\n",
       "  1.0,\n",
       "  0.0,\n",
       "  0.0,\n",
       "  0.0],\n",
       " 'predicted_class': 0,\n",
       " 'predicted_probabilities': array([0.11035269])}"
      ]
     },
     "execution_count": 123,
     "metadata": {},
     "output_type": "execute_result"
    }
   ],
   "source": [
    "sample=[10700, 64838, 9.0, 0.0, 0.0, 95.039168, 2.0, 34.0, 40.396233444, 0.0, 0.0, 0.0, 1.0, 0.0, 0.0, 0.0]\n",
    "\n",
    "pr.predict(sample)"
   ]
  },
  {
   "cell_type": "code",
   "execution_count": 126,
   "id": "65a5f6eb",
   "metadata": {},
   "outputs": [
    {
     "data": {
      "text/plain": [
       "{'prediction': 0,\n",
       " 'probability_default': 0.07079645520520722,\n",
       " 'result': 'No Default',\n",
       " 'sample': [5000.0,\n",
       "  10000.0,\n",
       "  2.0,\n",
       "  0.0,\n",
       "  0.0,\n",
       "  30.0,\n",
       "  1.0,\n",
       "  10.0,\n",
       "  35.0,\n",
       "  1.0,\n",
       "  0.0,\n",
       "  1.0,\n",
       "  0.0,\n",
       "  0.0,\n",
       "  0.0,\n",
       "  0.0]}"
      ]
     },
     "execution_count": 126,
     "metadata": {},
     "output_type": "execute_result"
    }
   ],
   "source": [
    "import requests as req\n",
    "req.get('http://localhost:5000/pagador?LOAN=5000&VALUE=10000&YOJ=2&DEROG=0&DELINQ=0&CLAGE=30&NINQ=1&CLNO=10&DEBTINC=35&REASON:DebtCon=1&JOB:Mgr=0&JOB:Office=1&JOB:Other=0&JOB:ProfExe=0&JOB:Sales=0&JOB:Self=0').json()"
   ]
  },
  {
   "cell_type": "code",
   "execution_count": null,
   "id": "a677df80",
   "metadata": {},
   "outputs": [],
   "source": [
    "'http://ec2-3-87-43-131.compute-1.amazonaws.com:5000/pagador?LOAN=5000&VALUE=10000&YOJ=2&DEROG=0&DELINQ=0&CLAGE=30&NINQ=1&CLNO=10&DEBTINC=35&REASON:DebtCon=1&JOB:Mgr=0&JOB:Office=1&JOB:Other=0&JOB:ProfExe=0&JOB:Sales=0&JOB:Self=0'"
   ]
  }
 ],
 "metadata": {
  "kernelspec": {
   "display_name": "python-3.10",
   "language": "python",
   "name": "python-3.10"
  },
  "language_info": {
   "codemirror_mode": {
    "name": "ipython",
    "version": 3
   },
   "file_extension": ".py",
   "mimetype": "text/x-python",
   "name": "python",
   "nbconvert_exporter": "python",
   "pygments_lexer": "ipython3",
   "version": "3.10.13"
  }
 },
 "nbformat": 4,
 "nbformat_minor": 5
}
